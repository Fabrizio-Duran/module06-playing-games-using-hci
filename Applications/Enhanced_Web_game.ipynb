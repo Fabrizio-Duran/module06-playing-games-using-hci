{
 "cells": [
  {
   "cell_type": "markdown",
   "metadata": {},
   "source": [
    "# Enhanced Web Game Controller: HCI Application\n",
    "\n",
    "In this notebook, we analyze and modify an existing Human-Computer Interaction (HCI) application based on a specific use case. We identify usability issues in the original application and implement enhancements to improve user experience and accessibility.\n",
    "\n",
    "## Overview\n",
    "\n",
    "This notebook covers:\n",
    "1. Analysis of usability issues in the original application\n",
    "2. Proposed improvements to enhance usability\n",
    "3. Implementation of these improvements\n",
    "4. Explanation of how these modifications impact user experience"
   ]
  },
  {
   "cell_type": "markdown",
   "metadata": {},
   "source": [
    "## 1. Analysis of Usability Issues\n",
    "\n",
    "After reviewing the original code (`06_02_Web_game.py`), we identified several usability issues:\n",
    "\n",
    "1. **Fixed Bounding Box Size**: The control rectangle is a fixed size (300x400 pixels) and doesn't adapt to different users or camera setups.\n",
    "2. **Binary Input System**: Controls are binary (press or don't press), with no option for gradual or proportional movement.\n",
    "3. **Single Input Method**: Only supports face detection, limiting accessibility for users with mobility challenges.\n",
    "4. **Limited Visual Feedback**: The user can see their face and the center box, but there's no clear indication of which direction is being activated.\n",
    "5. **No Calibration Option**: Users can't adjust sensitivity or control box size to match their comfort level.\n",
    "6. **No Pause Functionality**: Users can't pause the game without exiting completely (Esc key).\n",
    "7. **Fixed Click Position**: The game always clicks at position (500, 500) to start, which might not align with different web games.\n",
    "8. **Minimal Error Handling**: Limited error handling for camera initialization or face detection failures."
   ]
  },
  {
   "cell_type": "markdown",
   "metadata": {},
   "source": [
    "## 2. Proposed Improvements\n",
    "\n",
    "Based on these issues, we implemented the following improvements:\n",
    "\n",
    "1. **Adjustable Control Box**: Allow users to resize the control area during gameplay.\n",
    "2. **Enhanced Visual Feedback**: Add directional indicators to show which controls are being activated.\n",
    "3. **Alternative Input Methods**: Add hand gesture control as an alternative to face detection.\n",
    "4. **Pause Functionality**: Implement a pause feature with a simple gesture.\n",
    "5. **Calibration System**: Add calibration for different users and environments.\n",
    "6. **Customizable Click Position**: Allow the user to specify the game's start position.\n",
    "7. **Improved Error Handling**: Better feedback for camera or detection issues."
   ]
  },
  {
   "cell_type": "code",
   "execution_count": 1,
   "metadata": {},
   "outputs": [],
   "source": [
    "# Import necessary libraries\n",
    "import cv2\n",
    "import numpy as np\n",
    "import pyautogui as gui\n",
    "import time\n",
    "import argparse\n",
    "\n",
    "# Set keypress delay to 0\n",
    "gui.PAUSE = 0"
   ]
  },
  {
   "cell_type": "markdown",
   "metadata": {},
   "source": [
    "## 3. Implementation\n",
    "\n",
    "The enhanced implementation is available in the `Enhanced_Web_game.py` file. Here we'll walk through the key improvements."
   ]
  },
  {
   "cell_type": "markdown",
   "metadata": {},
   "source": [
    "### 3.1 Alternative Input Method: Hand Detection\n",
    "\n",
    "We added hand gesture control as an alternative to face detection for users who may have difficulty with head movements or prefer hand controls."
   ]
  },
  {
   "cell_type": "code",
   "execution_count": 2,
   "metadata": {},
   "outputs": [],
   "source": [
    "def detect_hand(frame):\n",
    "    '''\n",
    "    Detect hands in the frame using MediaPipe or color-based detection as fallback.\n",
    "    \n",
    "    returns: Hand position (x, y) or None if no hand detected\n",
    "    '''\n",
    "    # This is a simplified version - see the full implementation in the .py file\n",
    "    # Code attempts to use MediaPipe if available, otherwise falls back to color-based detection\n",
    "    \n",
    "    # Simple color-based hand detection (example)\n",
    "    hsv = cv2.cvtColor(frame, cv2.COLOR_BGR2HSV)\n",
    "    lower_skin = np.array([0, 20, 70], dtype=np.uint8)\n",
    "    upper_skin = np.array([20, 255, 255], dtype=np.uint8)\n",
    "    mask = cv2.inRange(hsv, lower_skin, upper_skin)\n",
    "    \n",
    "    # Find contours and return largest (simplified)\n",
    "    contours, _ = cv2.findContours(mask, cv2.RETR_EXTERNAL, cv2.CHAIN_APPROX_SIMPLE)\n",
    "    \n",
    "    if contours and cv2.contourArea(max(contours, key=cv2.contourArea)) > 5000:\n",
    "        # Return centroid of largest contour\n",
    "        # (implementation details in .py file)\n",
    "        return (cx, cy)\n",
    "    \n",
    "    return None"
   ]
  },
  {
   "cell_type": "markdown",
   "metadata": {},
   "source": [
    "### 3.2 Enhanced Visual Feedback\n",
    "\n",
    "We added directional indicators and improved UI elements to provide better feedback to the user."
   ]
  },
  {
   "cell_type": "code",
   "execution_count": 3,
   "metadata": {},
   "outputs": [],
   "source": [
    "def draw_ui_elements(frame, bbox, fps):\n",
    "    '''\n",
    "    Draw UI elements on the frame for better user feedback\n",
    "    '''\n",
    "    # Draw control rectangle\n",
    "    frame = cv2.rectangle(frame, (left_x, top_y), (right_x, bottom_y), (0, 0, 255), 2)\n",
    "        \n",
    "    # Draw directional indicators when out of center\n",
    "    if last_mov == 'left':\n",
    "        cv2.arrowedLine(frame, (center_x, center_y), (center_x - 50, center_y), (255, 0, 0), 3)\n",
    "    elif last_mov == 'right':\n",
    "        cv2.arrowedLine(frame, (center_x, center_y), (center_x + 50, center_y), (255, 0, 0), 3)\n",
    "    # Similar code for up/down directions\n",
    "    \n",
    "    # Show status information (FPS, control mode, etc.)\n",
    "    cv2.putText(frame, f\"FPS: {fps}\", (frame_width - 150, 30), \n",
    "                cv2.FONT_HERSHEY_SIMPLEX, 0.7, (0, 255, 0), 2)\n",
    "    \n",
    "    # Show current control mode and other UI elements\n",
    "    # (implementation details in .py file)\n",
    "    \n",
    "    return frame"
   ]
  },
  {
   "cell_type": "markdown",
   "metadata": {},
   "source": [
    "### 3.3 Calibration System\n",
    "\n",
    "We implemented a calibration mode that allows users to adjust the control box size and sensitivity."
   ]
  },
  {
   "cell_type": "code",
   "execution_count": 4,
   "metadata": {},
   "outputs": [
    {
     "data": {
      "text/plain": [
       "\"\\nk = cv2.waitKey(5)\\nif k == 27:  # Esc key\\n    break\\nelif k == ord('p') or k == ord('P'):  # Pause/Resume\\n    is_paused = not is_paused\\nelif k == ord('c') or k == ord('C'):  # Calibration mode\\n    calibration_mode = not calibration_mode\\nelif k == ord('+') or k == ord('='):  # Increase box size\\n    if calibration_mode:\\n        bbox_size = min(bbox_size + 10, frame_width // 2 - 20)\\n        bbox_height = min(bbox_height + 10, frame_height // 2 - 20)\\nelif k == ord('-') or k == ord('_'):  # Decrease box size\\n    if calibration_mode:\\n        bbox_size = max(bbox_size - 10, 50)\\n        bbox_height = max(bbox_height - 10, 50)\\nelif k == ord('s') or k == ord('S'):  # Adjust sensitivity\\n    sensitivity = (sensitivity + 0.25) % 2.0\\n    if sensitivity == 0:\\n        sensitivity = 0.25\\n\""
      ]
     },
     "execution_count": 4,
     "metadata": {},
     "output_type": "execute_result"
    }
   ],
   "source": [
    "# Key handling in main loop (simplified)\n",
    "'''\n",
    "k = cv2.waitKey(5)\n",
    "if k == 27:  # Esc key\n",
    "    break\n",
    "elif k == ord('p') or k == ord('P'):  # Pause/Resume\n",
    "    is_paused = not is_paused\n",
    "elif k == ord('c') or k == ord('C'):  # Calibration mode\n",
    "    calibration_mode = not calibration_mode\n",
    "elif k == ord('+') or k == ord('='):  # Increase box size\n",
    "    if calibration_mode:\n",
    "        bbox_size = min(bbox_size + 10, frame_width // 2 - 20)\n",
    "        bbox_height = min(bbox_height + 10, frame_height // 2 - 20)\n",
    "elif k == ord('-') or k == ord('_'):  # Decrease box size\n",
    "    if calibration_mode:\n",
    "        bbox_size = max(bbox_size - 10, 50)\n",
    "        bbox_height = max(bbox_height - 10, 50)\n",
    "elif k == ord('s') or k == ord('S'):  # Adjust sensitivity\n",
    "    sensitivity = (sensitivity + 0.25) % 2.0\n",
    "    if sensitivity == 0:\n",
    "        sensitivity = 0.25\n",
    "'''"
   ]
  },
  {
   "cell_type": "markdown",
   "metadata": {},
   "source": [
    "### 3.4 Improved Movement Control\n",
    "\n",
    "We enhanced the movement function to provide proportional control based on the distance from the center."
   ]
  },
  {
   "cell_type": "code",
   "execution_count": 5,
   "metadata": {},
   "outputs": [
    {
     "data": {
      "text/plain": [
       "\"\\n# Distance from center (for proportional control)\\nx_distance = abs(face_center_x - center_x) / center_x\\ny_distance = abs(face_center_y - center_y) / center_y\\n\\n# Scale by sensitivity\\nx_distance *= sensitivity\\ny_distance *= sensitivity\\n\\n# Apply controls based on position with proportional response\\nif x1 < bbox[0]:\\n    # Repeat key presses based on distance for smoother control\\n    presses = max(1, int(x_distance * 3))\\n    for _ in range(presses):\\n        gui.press('left')\\n\""
      ]
     },
     "execution_count": 5,
     "metadata": {},
     "output_type": "execute_result"
    }
   ],
   "source": [
    "# Proportional control snippet (simplified)\n",
    "'''\n",
    "# Distance from center (for proportional control)\n",
    "x_distance = abs(face_center_x - center_x) / center_x\n",
    "y_distance = abs(face_center_y - center_y) / center_y\n",
    "\n",
    "# Scale by sensitivity\n",
    "x_distance *= sensitivity\n",
    "y_distance *= sensitivity\n",
    "\n",
    "# Apply controls based on position with proportional response\n",
    "if x1 < bbox[0]:\n",
    "    # Repeat key presses based on distance for smoother control\n",
    "    presses = max(1, int(x_distance * 3))\n",
    "    for _ in range(presses):\n",
    "        gui.press('left')\n",
    "'''"
   ]
  },
  {
   "cell_type": "markdown",
   "metadata": {},
   "source": [
    "## 4. Impact on User Experience\n",
    "\n",
    "The enhancements we implemented significantly improve the user experience in several ways:\n",
    "\n",
    "1. **Improved Accessibility**: The addition of hand gesture control provides an alternative for users who may have difficulty with head movements.\n",
    "\n",
    "2. **Enhanced Feedback**: Directional indicators and UI elements provide clear feedback about the system state, helping users understand what's happening.\n",
    "\n",
    "3. **Customization**: The calibration system allows users to adjust the control box size and sensitivity to match their preferences and environment.\n",
    "\n",
    "4. **Smoother Control**: Proportional control based on distance from center provides more nuanced and responsive gameplay than binary controls.\n",
    "\n",
    "5. **Better User Control**: Pause functionality and error handling give users more control over the application.\n",
    "\n",
    "These improvements make the application more usable, accessible, and enjoyable for a wider range of users."
   ]
  },
  {
   "cell_type": "markdown",
   "metadata": {},
   "source": [
    "## 5. Running the Enhanced Application\n",
    "\n",
    "To run the enhanced application, execute the following command in your terminal:\n",
    "\n",
    "```\n",
    "python Enhanced_Web_game.py\n",
    "```\n",
    "\n",
    "You can also provide command-line arguments to customize the behavior:\n",
    "\n",
    "```\n",
    "python Enhanced_Web_game.py --mode hand --click-pos 600 400 --sensitivity 1.25 --box-size 200 --box-height 250\n",
    "```\n",
    "\n",
    "While the application is running, you can use the following keyboard controls:\n",
    "- P: Pause/Resume the game\n",
    "- C: Enter calibration mode (adjust control box size)\n",
    "- M: Switch between face and hand control modes\n",
    "- H: Show/hide help text\n",
    "- S: Adjust sensitivity\n",
    "- +/-: Increase/decrease box size (in calibration mode)\n",
    "- Esc: Exit"
   ]
  },
  {
   "cell_type": "markdown",
   "metadata": {},
   "source": [
    "## 6. Conclusion\n",
    "\n",
    "Through this assignment, we've learned how to analyze an HCI application, identify usability issues, and implement improvements to enhance the user experience. The modified application demonstrates principles of good HCI design, including:\n",
    "\n",
    "- **Accessibility**: Supporting different input methods for diverse users\n",
    "- **Feedback**: Providing clear visual cues about system state\n",
    "- **User Control**: Allowing customization and providing responsive controls\n",
    "- **Error Handling**: Gracefully handling potential errors and providing feedback\n",
    "\n",
    "These enhancements make the application more usable and accessible, demonstrating the importance of considering human factors in interface design."
   ]
  }
 ],
 "metadata": {
  "kernelspec": {
   "display_name": "venv",
   "language": "python",
   "name": "python3"
  },
  "language_info": {
   "codemirror_mode": {
    "name": "ipython",
    "version": 3
   },
   "file_extension": ".py",
   "mimetype": "text/x-python",
   "name": "python",
   "nbconvert_exporter": "python",
   "pygments_lexer": "ipython3",
   "version": "3.13.2"
  }
 },
 "nbformat": 4,
 "nbformat_minor": 4
}
